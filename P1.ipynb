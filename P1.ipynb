{
 "cells": [
  {
   "cell_type": "markdown",
   "metadata": {},
   "source": [
    "# Self-Driving Car Engineer Nanodegree\n",
    "\n",
    "\n",
    "## Project: **Finding Lane Lines on the Road** \n",
    "\n",
    "Built by Dmitry Zaganich in July 2017\n",
    "***\n",
    "This is a system for detecting lane lines.\n",
    "My lane detection pipeline was build as follows: \n",
    "\n",
    "1) Convert original image (video frame) to grayscale\n",
    "\n",
    "2) Build masks for yellow and white pixels\n",
    "\n",
    "3) Isolate yellow and white pixels  \n",
    "\n",
    "4) Apply gaussian blur to supress the noise \n",
    "\n",
    "5) Apply a Canny edge detection  \n",
    "\n",
    "6) Isolate \"region of interest\" in front of the vehicle  \n",
    "\n",
    "7) Apply Hough transform and detect lines \n",
    "\n",
    "8) Use np.polyfit to identify the lanes \n",
    "\n",
    "9) Overlay lanes as two red lines over the original image (frame) \n",
    "***"
   ]
  },
  {
   "cell_type": "markdown",
   "metadata": {},
   "source": [
    "## My implementation of the pipeline\n",
    "\n",
    "Project dependencies"
   ]
  },
  {
   "cell_type": "code",
   "execution_count": 1,
   "metadata": {
    "collapsed": true
   },
   "outputs": [],
   "source": [
    "# project dependencies\n",
    "import matplotlib.pyplot as plt\n",
    "import matplotlib.image as mpimg\n",
    "import numpy as np\n",
    "import cv2\n",
    "import os\n",
    "import math\n",
    "from moviepy.editor import VideoFileClip\n",
    "from IPython.display import HTML\n",
    "%matplotlib inline"
   ]
  },
  {
   "cell_type": "markdown",
   "metadata": {},
   "source": [
    "Functions which will be used in the pipeline. \n",
    "\n",
    "I modified \"draw_lines\" so it classifies every line as part of right or left lane. After that, it uses np.polyfit with a degree of 1 to approximately find every lane. It also detects approximate height of every lane."
   ]
  },
  {
   "cell_type": "code",
   "execution_count": 2,
   "metadata": {
    "collapsed": true
   },
   "outputs": [],
   "source": [
    "# utils\n",
    "def grayscale(img):\n",
    "    \"\"\"Applies the Grayscale transform\n",
    "    This will return an image with only one color channel\n",
    "    but NOTE: to see the returned image as grayscale\n",
    "    (assuming your grayscaled image is called 'gray')\n",
    "    you should call plt.imshow(gray, cmap='gray')\"\"\"\n",
    "    return cv2.cvtColor(img, cv2.COLOR_RGB2GRAY)\n",
    "    # Or use BGR2GRAY if you read an image with cv2.imread()\n",
    "    # return cv2.cvtColor(img, cv2.COLOR_BGR2GRAY)\n",
    "    \n",
    "def canny(img, low_threshold, high_threshold):\n",
    "    \"\"\"Applies the Canny transform\"\"\"\n",
    "    return cv2.Canny(img, low_threshold, high_threshold)\n",
    "\n",
    "def gaussian_blur(img, kernel_size):\n",
    "    \"\"\"Applies a Gaussian Noise kernel\"\"\"\n",
    "    return cv2.GaussianBlur(img, (kernel_size, kernel_size), 0)\n",
    "\n",
    "def region_of_interest(img, vertices):\n",
    "    \"\"\"\n",
    "    Applies an image mask.\n",
    "    \n",
    "    Only keeps the region of the image defined by the polygon\n",
    "    formed from `vertices`. The rest of the image is set to black.\n",
    "    \"\"\"\n",
    "    #defining a blank mask to start with\n",
    "    mask = np.zeros_like(img)   \n",
    "    \n",
    "    #defining a 3 channel or 1 channel color to fill the mask with depending on the input image\n",
    "    if len(img.shape) > 2:\n",
    "        channel_count = img.shape[2]  # i.e. 3 or 4 depending on your image\n",
    "        ignore_mask_color = (255,) * channel_count\n",
    "    else:\n",
    "        ignore_mask_color = 255\n",
    "        \n",
    "    #filling pixels inside the polygon defined by \"vertices\" with the fill color    \n",
    "    cv2.fillPoly(mask, vertices, ignore_mask_color)\n",
    "    \n",
    "    #returning the image only where mask pixels are nonzero\n",
    "    masked_image = cv2.bitwise_and(img, mask)\n",
    "    return masked_image\n",
    "\n",
    "\n",
    "def draw_lines(img, lines, color=[255, 0, 0], thickness=6):\n",
    "    \"\"\"\n",
    "    NOTE: this is the function you might want to use as a starting point once you want to \n",
    "    average/extrapolate the line segments you detect to map out the full\n",
    "    extent of the lane (going from the result shown in raw-lines-example.mp4\n",
    "    to that shown in P1_example.mp4).  \n",
    "    \n",
    "    Think about things like separating line segments by their \n",
    "    slope ((y2-y1)/(x2-x1)) to decide which segments are part of the left\n",
    "    line vs. the right line.  Then, you can average the position of each of \n",
    "    the lines and extrapolate to the top and bottom of the lane.\n",
    "    \n",
    "    This function draws `lines` with `color` and `thickness`.    \n",
    "    Lines are drawn on the image inplace (mutates the image).\n",
    "    If you want to make the lines semi-transparent, think about combining\n",
    "    this function with the weighted_img() function below\n",
    "    \"\"\"\n",
    "    det_slope = 0.4\n",
    "    \n",
    "    right_lane_x, right_lane_y = [],[]\n",
    "    left_lane_x, left_lane_y = [],[]\n",
    "    \n",
    "    imshape = img.shape\n",
    "    \n",
    "    right_top_y = imshape[0]\n",
    "    left_top_y = imshape[0]\n",
    "    \n",
    "    for line in lines:\n",
    "        #1\n",
    "        for x1,y1,x2,y2 in line:\n",
    "            slope = get_slope(x1,y1,x2,y2)\n",
    "            if slope > det_slope:\n",
    "                right_lane_x.append(x1)\n",
    "                right_lane_y.append(y1)\n",
    "                right_lane_x.append(x2)\n",
    "                right_lane_y.append(y2)\n",
    "                \n",
    "                right_top_y = min(y1, y2, right_top_y)\n",
    "            elif slope < -det_slope:\n",
    "                left_lane_x.append(x1)\n",
    "                left_lane_y.append(y1)\n",
    "                left_lane_x.append(x2)\n",
    "                left_lane_y.append(y2)\n",
    "                \n",
    "                left_top_y = min(y1, y2, left_top_y)\n",
    "                \n",
    "    global_top_y = min(right_top_y, left_top_y)            \n",
    "\n",
    "    # draw simple interpolated lines\n",
    "    right_lane_line = np.polyfit(right_lane_x, right_lane_y, 1)\n",
    "    left_lane_line = np.polyfit(left_lane_x, left_lane_y, 1)\n",
    "    \n",
    "    right_lane_solve_top = np.copy(right_lane_line)\n",
    "    right_lane_solve_bottom = np.copy(right_lane_line)\n",
    "    \n",
    "    right_lane_solve_top[1] = right_lane_solve_top[1] - global_top_y\n",
    "    right_lane_solve_bottom[1] = right_lane_solve_bottom[1] - imshape[0]\n",
    "    \n",
    "    right_top_x = np.roots(right_lane_solve_top)\n",
    "    right_bottom_x = np.roots(right_lane_solve_bottom)\n",
    "    \n",
    "    left_lane_solve_top = np.copy(left_lane_line)\n",
    "    left_lane_solve_bottom = np.copy(left_lane_line)\n",
    "    \n",
    "    left_lane_solve_top[1] = left_lane_solve_top[1] - global_top_y\n",
    "    left_lane_solve_bottom[1] = left_lane_solve_bottom[1] - imshape[0]\n",
    "    \n",
    "    left_top_x = np.roots(left_lane_solve_top)\n",
    "    left_bottom_x = np.roots(left_lane_solve_bottom)\n",
    "    \n",
    "    cv2.line(img, (right_top_x, global_top_y), (right_bottom_x, imshape[0]), color, thickness)\n",
    "    cv2.line(img, (left_top_x, global_top_y), (left_bottom_x, imshape[0]), color, thickness)\n",
    "\n",
    "def get_slope(x1,y1,x2,y2):\n",
    "    return (y2-y1)/(x2-x1)\n",
    "\n",
    "def hough_lines(img, rho, theta, threshold, min_line_len, max_line_gap):\n",
    "    \"\"\"\n",
    "    `img` should be the output of a Canny transform.\n",
    "        \n",
    "    Returns an image with hough lines drawn.\n",
    "    \"\"\"\n",
    "    lines = cv2.HoughLinesP(img, rho, theta, threshold, np.array([]), minLineLength=min_line_len, maxLineGap=max_line_gap)\n",
    "    line_img = np.zeros((img.shape[0], img.shape[1], 3), dtype=np.uint8)\n",
    "    draw_lines(line_img, lines)\n",
    "    return line_img\n",
    "\n",
    "# Python 3 has support for cool math symbols.\n",
    "\n",
    "def weighted_img(img, initial_img, α=0.8, β=1., λ=0.):\n",
    "    \"\"\"\n",
    "    `img` is the output of the hough_lines(), An image with lines drawn on it.\n",
    "    Should be a blank image (all black) with lines drawn on it.\n",
    "    \n",
    "    `initial_img` should be the image before any processing.\n",
    "    \n",
    "    The result image is computed as follows:\n",
    "    \n",
    "    initial_img * α + img * β + λ\n",
    "    NOTE: initial_img and img must be the same shape!\n",
    "    \"\"\"\n",
    "    return cv2.addWeighted(initial_img, α, img, β, λ)"
   ]
  },
  {
   "cell_type": "markdown",
   "metadata": {},
   "source": [
    "Implementation of single frame processing."
   ]
  },
  {
   "cell_type": "code",
   "execution_count": 3,
   "metadata": {
    "collapsed": true
   },
   "outputs": [],
   "source": [
    "def process_image(image):\n",
    "    # I. Convert to grayscale\n",
    "    \n",
    "    image_gray = grayscale(image)\n",
    "    \n",
    "    # II. Build masks for yellow and white pixels\n",
    "    \n",
    "    # image in HSV color space\n",
    "    image_hsv = cv2.cvtColor(image, cv2.COLOR_RGB2HSV)\n",
    "    \n",
    "    # ranges of \"yellow\"\n",
    "    lower_yellow = np.array([20, 100, 100], dtype=\"uint8\")\n",
    "    upper_yellow = np.array([30, 255, 255], dtype=\"uint8\")\n",
    "\n",
    "    mask_yellow = cv2.inRange(image_hsv, lower_yellow, upper_yellow)\n",
    "    mask_white = cv2.inRange(image_gray, 200, 255)\n",
    "    \n",
    "    # combine masks together\n",
    "    mask_target = cv2.bitwise_or(mask_white, mask_yellow)\n",
    "    \n",
    "    # III. Isolate white and yellow pixels\n",
    "    \n",
    "    image_target = cv2.bitwise_and(image_gray, mask_target)\n",
    "    \n",
    "    # IV. Apply gaussian blur to supress the noise\n",
    "    \n",
    "    kernel_size = 5\n",
    "    image_target_blurred = gaussian_blur(image_target, kernel_size)\n",
    "    \n",
    "    # V. Apply canny edge detection\n",
    "    \n",
    "    low_threshold = 50\n",
    "    high_threshold = 150\n",
    "    \n",
    "    image_edged = canny(image_target_blurred, low_threshold, high_threshold)\n",
    "    \n",
    "    # VI. Isolate region of intrest\n",
    "    \n",
    "    imshape = image.shape\n",
    "    \n",
    "    # building verticies of the region\n",
    "    lower_left = [imshape[1]/9, imshape[0]]\n",
    "    lower_right = [imshape[1]-imshape[1]/9, imshape[0]]\n",
    "    top_left = [imshape[1]/2-imshape[1]/8, imshape[0]/2+imshape[0]/10]\n",
    "    top_right = [imshape[1]/2+imshape[1]/8, imshape[0]/2+imshape[0]/10]\n",
    "    \n",
    "    vertices = [np.array([lower_left,top_left,top_right,lower_right],dtype=np.int32)]\n",
    "    \n",
    "    image_roi = region_of_interest(image_edged, vertices)\n",
    "    \n",
    "    # VII. Apply Hough transform and detect lines\n",
    "    \n",
    "    # distance and angular resolution of the grid in Hough space\n",
    "    rho = 4\n",
    "    theta = np.pi/180\n",
    "    \n",
    "    # minimum number of intersections in a grid for candidate line to go to output\n",
    "    threshold = 30\n",
    "    \n",
    "    # line params\n",
    "    min_line_len = 10\n",
    "    max_line_gap = 40\n",
    "\n",
    "    image_hough = hough_lines(image_roi, rho, theta, threshold, min_line_len, max_line_gap)\n",
    "    \n",
    "    # VIII. Overlay the original image with lanes\n",
    "    \n",
    "    image_with_lanes_overlay = weighted_img(image_hough, image, α=0.8, β=1., λ=0.)\n",
    "    \n",
    "    return image_with_lanes_overlay"
   ]
  },
  {
   "cell_type": "markdown",
   "metadata": {},
   "source": [
    "## Test on Images\n",
    "\n",
    "Iterate through \"test_images\" directory, apply pipeline to the each individual image and save it to the \"out_images\" directory."
   ]
  },
  {
   "cell_type": "code",
   "execution_count": 4,
   "metadata": {
    "collapsed": true
   },
   "outputs": [],
   "source": [
    "for image_name in os.listdir(\"test_images/\"):\n",
    "    image = mpimg.imread(\"test_images/\"+image_name)\n",
    "    image_with_lanes_overlay = process_image(image)\n",
    "    mpimg.imsave(\"out_images/processed_\"+image_name, image_with_lanes_overlay)"
   ]
  },
  {
   "cell_type": "markdown",
   "metadata": {},
   "source": [
    "## Test on Videos\n",
    "\n",
    "Apply \"process_image\" to the every frame in test videos and save resulting videos with detected lanes."
   ]
  },
  {
   "cell_type": "code",
   "execution_count": 5,
   "metadata": {
    "scrolled": true
   },
   "outputs": [
    {
     "name": "stdout",
     "output_type": "stream",
     "text": [
      "[MoviePy] >>>> Building video test_videos_output/solidWhiteRight.mp4\n",
      "[MoviePy] Writing video test_videos_output/solidWhiteRight.mp4\n"
     ]
    },
    {
     "name": "stderr",
     "output_type": "stream",
     "text": [
      "100%|█████████▉| 221/222 [00:05<00:00, 43.46it/s]\n"
     ]
    },
    {
     "name": "stdout",
     "output_type": "stream",
     "text": [
      "[MoviePy] Done.\n",
      "[MoviePy] >>>> Video ready: test_videos_output/solidWhiteRight.mp4 \n",
      "\n",
      "CPU times: user 6.28 s, sys: 236 ms, total: 6.51 s\n",
      "Wall time: 5.59 s\n"
     ]
    }
   ],
   "source": [
    "white_output = 'test_videos_output/solidWhiteRight.mp4'\n",
    "clip1 = VideoFileClip(\"test_videos/solidWhiteRight.mp4\")\n",
    "white_clip = clip1.fl_image(process_image) \n",
    "%time white_clip.write_videofile(white_output, audio=False)"
   ]
  },
  {
   "cell_type": "code",
   "execution_count": 6,
   "metadata": {},
   "outputs": [
    {
     "data": {
      "text/html": [
       "\n",
       "<video width=\"960\" height=\"540\" controls>\n",
       "  <source src=\"test_videos_output/solidWhiteRight.mp4\">\n",
       "</video>\n"
      ],
      "text/plain": [
       "<IPython.core.display.HTML object>"
      ]
     },
     "execution_count": 6,
     "metadata": {},
     "output_type": "execute_result"
    }
   ],
   "source": [
    "HTML(\"\"\"\n",
    "<video width=\"960\" height=\"540\" controls>\n",
    "  <source src=\"{0}\">\n",
    "</video>\n",
    "\"\"\".format(white_output))"
   ]
  },
  {
   "cell_type": "code",
   "execution_count": 7,
   "metadata": {},
   "outputs": [
    {
     "name": "stdout",
     "output_type": "stream",
     "text": [
      "[MoviePy] >>>> Building video test_videos_output/solidYellowLeft.mp4\n",
      "[MoviePy] Writing video test_videos_output/solidYellowLeft.mp4\n"
     ]
    },
    {
     "name": "stderr",
     "output_type": "stream",
     "text": [
      "100%|█████████▉| 681/682 [00:16<00:00, 41.28it/s]\n"
     ]
    },
    {
     "name": "stdout",
     "output_type": "stream",
     "text": [
      "[MoviePy] Done.\n",
      "[MoviePy] >>>> Video ready: test_videos_output/solidYellowLeft.mp4 \n",
      "\n",
      "CPU times: user 19.2 s, sys: 952 ms, total: 20.2 s\n",
      "Wall time: 17.2 s\n"
     ]
    }
   ],
   "source": [
    "yellow_output = 'test_videos_output/solidYellowLeft.mp4'\n",
    "clip2 = VideoFileClip('test_videos/solidYellowLeft.mp4')\n",
    "yellow_clip = clip2.fl_image(process_image)\n",
    "%time yellow_clip.write_videofile(yellow_output, audio=False)"
   ]
  },
  {
   "cell_type": "code",
   "execution_count": 8,
   "metadata": {},
   "outputs": [
    {
     "data": {
      "text/html": [
       "\n",
       "<video width=\"960\" height=\"540\" controls>\n",
       "  <source src=\"test_videos_output/solidYellowLeft.mp4\">\n",
       "</video>\n"
      ],
      "text/plain": [
       "<IPython.core.display.HTML object>"
      ]
     },
     "execution_count": 8,
     "metadata": {},
     "output_type": "execute_result"
    }
   ],
   "source": [
    "HTML(\"\"\"\n",
    "<video width=\"960\" height=\"540\" controls>\n",
    "  <source src=\"{0}\">\n",
    "</video>\n",
    "\"\"\".format(yellow_output))"
   ]
  },
  {
   "cell_type": "code",
   "execution_count": 9,
   "metadata": {},
   "outputs": [
    {
     "name": "stdout",
     "output_type": "stream",
     "text": [
      "[MoviePy] >>>> Building video test_videos_output/challenge.mp4\n",
      "[MoviePy] Writing video test_videos_output/challenge.mp4\n"
     ]
    },
    {
     "name": "stderr",
     "output_type": "stream",
     "text": [
      "100%|██████████| 251/251 [00:10<00:00, 24.66it/s]\n"
     ]
    },
    {
     "name": "stdout",
     "output_type": "stream",
     "text": [
      "[MoviePy] Done.\n",
      "[MoviePy] >>>> Video ready: test_videos_output/challenge.mp4 \n",
      "\n",
      "CPU times: user 9.86 s, sys: 528 ms, total: 10.4 s\n",
      "Wall time: 11.7 s\n"
     ]
    }
   ],
   "source": [
    "challenge_output = 'test_videos_output/challenge.mp4'\n",
    "clip3 = VideoFileClip('test_videos/challenge.mp4')\n",
    "challenge_clip = clip3.fl_image(process_image)\n",
    "%time challenge_clip.write_videofile(challenge_output, audio=False)"
   ]
  },
  {
   "cell_type": "code",
   "execution_count": 10,
   "metadata": {},
   "outputs": [
    {
     "data": {
      "text/html": [
       "\n",
       "<video width=\"960\" height=\"540\" controls>\n",
       "  <source src=\"test_videos_output/challenge.mp4\">\n",
       "</video>\n"
      ],
      "text/plain": [
       "<IPython.core.display.HTML object>"
      ]
     },
     "execution_count": 10,
     "metadata": {},
     "output_type": "execute_result"
    }
   ],
   "source": [
    "HTML(\"\"\"\n",
    "<video width=\"960\" height=\"540\" controls>\n",
    "  <source src=\"{0}\">\n",
    "</video>\n",
    "\"\"\".format(challenge_output))"
   ]
  },
  {
   "cell_type": "markdown",
   "metadata": {},
   "source": [
    "## My conclusion\n",
    "\n",
    "The provided solution works for well for videos with straight lanes but in the \"challenge\" video there are problems with lane detection due to curved lanes in the top of the region of intrest. This happens due to my approach to the classification of hough lines by their slope, so in order to improve the pipeline I'll have to find a way to detect change in the slope of the lane.\n",
    "\n",
    "It's also worth noting that test videos are recorded in the daylight and from straight point of view. If these conditions will not hold, my approach to find a region of intrest will fail to provide the correct region.\n",
    "\n",
    "There is also a room for improvement to the approximation of lane lines. They should be approximated not just by regular line, but for some higher degree polynomial. I actually tried that, but could not supress the noise completely in the corners of the region of intrest, so I did not include this code to the review.  "
   ]
  },
  {
   "cell_type": "code",
   "execution_count": null,
   "metadata": {
    "collapsed": true
   },
   "outputs": [],
   "source": []
  }
 ],
 "metadata": {
  "anaconda-cloud": {},
  "kernelspec": {
   "display_name": "Python 3",
   "language": "python",
   "name": "python3"
  },
  "language_info": {
   "codemirror_mode": {
    "name": "ipython",
    "version": 3
   },
   "file_extension": ".py",
   "mimetype": "text/x-python",
   "name": "python",
   "nbconvert_exporter": "python",
   "pygments_lexer": "ipython3",
   "version": "3.5.2"
  },
  "widgets": {
   "state": {},
   "version": "1.1.2"
  }
 },
 "nbformat": 4,
 "nbformat_minor": 1
}
